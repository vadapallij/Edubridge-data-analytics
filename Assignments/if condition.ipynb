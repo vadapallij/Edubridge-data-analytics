{
 "cells": [
  {
   "cell_type": "code",
   "execution_count": 1,
   "id": "d09700ef",
   "metadata": {},
   "outputs": [
    {
     "name": "stdout",
     "output_type": "stream",
     "text": [
      "enter city name:mumbai\n",
      "it belongs to india\n"
     ]
    }
   ],
   "source": [
    "india=[\"mumbai\", \"banglore\", \"chennai\", \"delhi\"]\n",
    "paksitan=[\"lahore\",\"karachi\",\"islamabad\"]\n",
    "bangladesh=[\"dhaka\", \"khulna\", \"rangpur\"]\n",
    "city=input('enter city name:',)\n",
    "if city in india:\n",
    "    print('it belongs to india')\n",
    "elif city in paksitan:\n",
    "    print('it belongs to paksitan')\n",
    "elif city in bangladesh:\n",
    "    print ('it belongs to bangaldesh')\n",
    "else:\n",
    "    print(\" it doesn't belong to the cities in the above list\")\n",
    "    \n",
    "    "
   ]
  },
  {
   "cell_type": "code",
   "execution_count": null,
   "id": "b3602ad9",
   "metadata": {},
   "outputs": [],
   "source": []
  }
 ],
 "metadata": {
  "kernelspec": {
   "display_name": "Python 3 (ipykernel)",
   "language": "python",
   "name": "python3"
  },
  "language_info": {
   "codemirror_mode": {
    "name": "ipython",
    "version": 3
   },
   "file_extension": ".py",
   "mimetype": "text/x-python",
   "name": "python",
   "nbconvert_exporter": "python",
   "pygments_lexer": "ipython3",
   "version": "3.9.12"
  }
 },
 "nbformat": 4,
 "nbformat_minor": 5
}
